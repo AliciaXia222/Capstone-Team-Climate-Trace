{
 "cells": [
  {
   "cell_type": "code",
   "execution_count": 1,
   "metadata": {},
   "outputs": [],
   "source": [
    "import gdown\n",
    "import os\n",
    "import zipfile\n",
    "\n",
    "import rasterio\n",
    "import numpy as np\n",
    "from tqdm import tqdm\n",
    "import xarray as xr\n",
    "import matplotlib.pyplot as plt\n",
    "import cartopy.crs as ccrs\n",
    "from datetime import datetime\n",
    "import pandas as pd"
   ]
  },
  {
   "cell_type": "code",
   "execution_count": 2,
   "metadata": {},
   "outputs": [],
   "source": [
    "def download_weather_data(data_url, file_name, output_dir=\"../../drive_downloaded_files\"):\n",
    "    \"\"\"\n",
    "    Downloads a weather data file (e.g., temperature, precipitation, humidity) from Google Drive.\n",
    "    \n",
    "    Parameters:\n",
    "        data_url (str): The URL to download the weather data file from.\n",
    "        file_name (str): The file name including the variable and year (e.g., \"2m_temperature_2023.netcdf\").\n",
    "        output_dir (str): The directory where the downloaded file will be saved. Defaults to \"../../drive_downloaded_files\".\n",
    "    \"\"\"\n",
    "    # Create the output file path using the provided file_name\n",
    "    output_path = os.path.join(output_dir, file_name)\n",
    "\n",
    "    # Create the output folder if it doesn't exist\n",
    "    if not os.path.exists(output_dir):\n",
    "        os.makedirs(output_dir)\n",
    "\n",
    "    # Download the file if it doesn't exist\n",
    "    if not os.path.exists(output_path):\n",
    "        print(f\"Downloading the file from {data_url}...\")\n",
    "        gdown.download(data_url, output_path, quiet=False)\n",
    "    else:\n",
    "        print(f\"The file {output_path} already exists.\")\n",
    "\n",
    "\n",
    "def haversine_distance(lat1, lon1, lat2, lon2):\n",
    "    \"\"\"\n",
    "    Calculates shortest distance between points on Earth's surface.\n",
    "    Accounts for Earth's curvature, more accurate than Euclidean distance.\n",
    "    \"\"\"\n",
    "    R = 6371  # Earth's radius in km\n",
    "    lat1, lon1, lat2, lon2 = map(np.radians, [lat1, lon1, lat2, lon2])\n",
    "    \n",
    "    dlat = lat2 - lat1\n",
    "    dlon = lon2 - lon1\n",
    "    \n",
    "    a = np.sin(dlat/2)**2 + np.cos(lat1) * np.cos(lat2) * np.sin(dlon/2)**2\n",
    "    c = 2 * np.arcsin(np.sqrt(a))\n",
    "    \n",
    "    return R * c\n",
    "\n",
    "def find_nearest_point(lat, lon, ds):\n",
    "    \"\"\"\n",
    "    Finds the nearest grid point in an ERA5-Land dataset given input coordinates.\n",
    "    \"\"\"\n",
    "    # Normalize longitude to [0, 360) range used by ERA5-Land\n",
    "    # Example: -10° → 350°, 370° → 10°\n",
    "    lon = lon % 360\n",
    "    \n",
    "    lats = ds.latitude.values\n",
    "    lons = ds.longitude.values\n",
    "    \n",
    "    lat_idx = np.abs(lats - lat).argmin()\n",
    "    lon_idx = np.abs(lons - lon).argmin()\n",
    "    \n",
    "    lat_nearest = float(lats[lat_idx])\n",
    "    lon_nearest = float(lons[lon_idx])\n",
    "    \n",
    "    distance = haversine_distance(lat, lon, lat_nearest, lon_nearest)\n",
    "    \n",
    "    return lat_idx, lon_idx, lat_nearest, lon_nearest, distance\n",
    "\n",
    "def haversine_distance(lat1, lon1, lat2, lon2):\n",
    "    \"\"\"\n",
    "    Calculates shortest distance between points on Earth's surface.\n",
    "    Accounts for Earth's curvature, more accurate than Euclidean distance.\n",
    "    \"\"\"\n",
    "    R = 6371  # Earth's radius in km\n",
    "    lat1, lon1, lat2, lon2 = map(np.radians, [lat1, lon1, lat2, lon2])\n",
    "    \n",
    "    dlat = lat2 - lat1\n",
    "    dlon = lon2 - lon1\n",
    "    \n",
    "    a = np.sin(dlat/2)**2 + np.cos(lat1) * np.cos(lat2) * np.sin(dlon/2)**2\n",
    "    c = 2 * np.arcsin(np.sqrt(a))\n",
    "    \n",
    "    return R * c\n",
    "\n",
    "def find_nearest_point(lat, lon, ds):\n",
    "    \"\"\"\n",
    "    Finds the nearest grid point in an ERA5-Land dataset given input coordinates.\n",
    "    \"\"\"\n",
    "    # Normalize longitude to [0, 360) range used by ERA5-Land\n",
    "    # Example: -10° → 350°, 370° → 10°\n",
    "    lon = lon % 360\n",
    "    \n",
    "    lats = ds.latitude.values\n",
    "    lons = ds.longitude.values\n",
    "    \n",
    "    lat_idx = np.abs(lats - lat).argmin()\n",
    "    lon_idx = np.abs(lons - lon).argmin()\n",
    "    \n",
    "    lat_nearest = float(lats[lat_idx])\n",
    "    lon_nearest = float(lons[lon_idx])\n",
    "    \n",
    "    distance = haversine_distance(lat, lon, lat_nearest, lon_nearest)\n",
    "    \n",
    "    return lat_idx, lon_idx, lat_nearest, lon_nearest, distance\n",
    "\n",
    "def get_variable_series(ds, lat, lon, var_name=None):\n",
    "    \"\"\"\n",
    "    Extracts time series for the nearest point to given coordinates.\n",
    "    Args:\n",
    "        ds: xarray dataset\n",
    "        lat: latitude\n",
    "        lon: longitude\n",
    "        var_name: variable name (e.g., 't2m', 'd2m', 'tp'). If None, uses first data variable\n",
    "    \"\"\"\n",
    "    lat_idx, lon_idx, _, _, _ = find_nearest_point(lat, lon, ds)\n",
    "    \n",
    "    if var_name is None:\n",
    "        # Get the first data variable name if none specified\n",
    "        var_name = list(ds.data_vars)[0]\n",
    "    \n",
    "    return ds[var_name].isel(latitude=lat_idx, longitude=lon_idx)\n",
    "\n",
    "def get_variable_average(ds, lat, lon, var_name=None):\n",
    "    \"\"\"\n",
    "    Calculates average value for the nearest point.\n",
    "    \"\"\"\n",
    "    series = get_variable_series(ds, lat, lon, var_name)\n",
    "    return float(series.mean())"
   ]
  },
  {
   "cell_type": "markdown",
   "metadata": {},
   "source": [
    "## Countries "
   ]
  },
  {
   "cell_type": "code",
   "execution_count": null,
   "metadata": {},
   "outputs": [],
   "source": [
    "countries_zip_url = \"https://drive.google.com/uc?id=1UQzdO7suT0BnwKBeNybMG97vM9GIDogA\"\n",
    "countries_zip_file_path = \"../../allCountries.zip\"\n",
    "\n",
    "# Download the ZIP file if it doesn't exist; otherwise, proceed to read the TXT file.\n",
    "if not os.path.exists(countries_zip_file_path):\n",
    "    gdown.download(countries_zip_url, countries_zip_file_path, quiet=False)\n",
    "\n",
    "with zipfile.ZipFile(countries_zip_file_path) as z:\n",
    "    countries_txt_filename = \"allCountries.txt\"\n",
    "\n",
    "    with z.open(countries_txt_filename) as txt_file:\n",
    "        countries_df = pd.read_csv(txt_file, sep=\"\\t\", header=None)\n",
    "\n",
    "\n",
    "# https://download.geonames.org/export/dump/\n",
    "countries_df.columns = [\n",
    "    'geonameid',         \n",
    "    'name',             \n",
    "    'asciiname',        \n",
    "    'alternatenames',  \n",
    "    'latitude',         \n",
    "    'longitude',       \n",
    "    'feature class',    \n",
    "    'feature code',      \n",
    "    'iso alpha 2',      \n",
    "    'cc2',              \n",
    "    'admin1 code',     \n",
    "    'admin2 code',       \n",
    "    'admin3 code',      \n",
    "    'admin4 code',   \n",
    "    'population',      \n",
    "    'elevation',       \n",
    "    'dem',             \n",
    "    'timezone',          \n",
    "    'modification date'  \n",
    "]\n",
    "\n",
    "print(f\"\\nshape: {countries_df.shape}\")\n",
    "countries_df.head()"
   ]
  },
  {
   "cell_type": "markdown",
   "metadata": {},
   "source": [
    "## EUI"
   ]
  },
  {
   "cell_type": "code",
   "execution_count": null,
   "metadata": {},
   "outputs": [],
   "source": [
    "eui_url = \"https://drive.google.com/uc?id=12qGq_DLefI1RihIF_RKQUyJtm480-xRC\"\n",
    "eui_df = pd.read_csv(eui_url)\n",
    "\n",
    "print(f\"shape: {eui_df.shape}\")\n",
    "eui_df.head()"
   ]
  },
  {
   "cell_type": "code",
   "execution_count": null,
   "metadata": {},
   "outputs": [],
   "source": [
    "merged_df = pd.merge(\n",
    "    countries_df, eui_df, left_on=\"geonameid\", right_on=\"Geonames ID\", how=\"inner\"\n",
    ")\n",
    "assert merged_df.shape[0] == eui_df.shape[0]\n",
    "print(f\"shape: {merged_df.shape}\")\n",
    "merged_df[[\"geonameid\",\"name\",\"latitude\",\"longitude\"]]"
   ]
  },
  {
   "cell_type": "markdown",
   "metadata": {},
   "source": [
    "# 2m temperature (K)\n",
    "\n",
    "This parameter is the temperature of air at 2m above the surface of land, sea or inland waters. 2m temperature is calculated by interpolating between the lowest model level and the Earth's surface, taking account of the atmospheric conditions. This parameter has units of kelvin (K). Temperature measured in kelvin can be converted to degrees Celsius (°C) by subtracting 273.15."
   ]
  },
  {
   "cell_type": "code",
   "execution_count": null,
   "metadata": {},
   "outputs": [],
   "source": [
    "drive_url_2m_temperature_2023 = \"https://drive.google.com/uc?export=download&id=15ZCGXk4YdgF46RxIDz8z1zgqPqBCx0C8\"\n",
    "file_name_2m_temperature_2023 = \"2m_temperature_2023.netcdf\"\n",
    "download_weather_data(drive_url_2m_temperature_2023, file_name_2m_temperature_2023)"
   ]
  },
  {
   "cell_type": "code",
   "execution_count": null,
   "metadata": {},
   "outputs": [],
   "source": [
    "ds_2m_temperature_2023 = xr.open_dataset(\"../../drive_downloaded_files/\" + file_name_2m_temperature_2023)\n",
    "ds_2m_temperature_2023"
   ]
  },
  {
   "cell_type": "code",
   "execution_count": null,
   "metadata": {},
   "outputs": [],
   "source": [
    "# Santiago coordinates\n",
    "lat = -33.3927\n",
    "lon = -70.7858\n",
    "\n",
    "# Find nearest point\n",
    "lat_idx, lon_idx, lat_near, lon_near, distance = find_nearest_point(lat, lon, ds_2m_temperature_2023)\n",
    "\n",
    "print(f\"Nearest point:\")\n",
    "print(f\"Latitude: {lat_near:.4f}°\")\n",
    "print(f\"Longitude: {lon_near:.4f}°\")\n",
    "print(f\"Distance: {distance:.2f} km\")\n",
    "\n",
    "# Get temperature series for this point\n",
    "temp_avg = get_variable_average(ds_2m_temperature_2023, lat, lon, 't2m')\n",
    "print(f\"Average temperature: {temp_avg} K\")"
   ]
  },
  {
   "cell_type": "markdown",
   "metadata": {},
   "source": [
    "# 2m dewpoint temperature (K)\n",
    "This parameter is the temperature to which the air, at 2 metres above the surface of the Earth, would have to be cooled for saturation to occur. It is a measure of the humidity of the air. Combined with temperature, it can be used to calculate the relative humidity. 2m dew point temperature is calculated by interpolating between the lowest model level and the Earth's surface, taking account of the atmospheric conditions. This parameter has units of kelvin (K). Temperature measured in kelvin can be converted to degrees Celsius (°C) by subtracting 273.15."
   ]
  },
  {
   "cell_type": "code",
   "execution_count": null,
   "metadata": {},
   "outputs": [],
   "source": [
    "drive_url_2m_dewpoint_temperature_2023 = \"https://drive.google.com/uc?export=download&id=1OK8q9zxVaVvVAHORRGWaHxTszYEgrhyR\"\n",
    "file_name_2m_dewpoint_temperature_2023 = \"2m_dewpoint_temperature_2023.netcdf\"\n",
    "download_weather_data(drive_url_2m_dewpoint_temperature_2023, file_name_2m_dewpoint_temperature_2023)"
   ]
  },
  {
   "cell_type": "code",
   "execution_count": null,
   "metadata": {},
   "outputs": [],
   "source": [
    "ds_2m_dewpoint_temperature_2023 = xr.open_dataset(\"../../drive_downloaded_files/\" + file_name_2m_dewpoint_temperature_2023)\n",
    "ds_2m_dewpoint_temperature_2023"
   ]
  },
  {
   "cell_type": "code",
   "execution_count": null,
   "metadata": {},
   "outputs": [],
   "source": [
    "dewpoint_avg = get_variable_average(ds_2m_dewpoint_temperature_2023, lat, lon, 'd2m')\n",
    "print(f\"Average dewpoint: {dewpoint_avg} K\")"
   ]
  },
  {
   "cell_type": "code",
   "execution_count": null,
   "metadata": {},
   "outputs": [],
   "source": [
    "# Visually check the data for a specific datetime (dt).\n",
    "specific_time = '2023-01-01T12:00'\n",
    "dewpoint_one_time = ds_2m_dewpoint_temperature_2023['d2m'].sel(valid_time=specific_time)\n",
    "\n",
    "# Create the map\n",
    "plt.figure(figsize=(15, 10))\n",
    "ax = plt.axes(projection=ccrs.Robinson())\n",
    "ax.coastlines()\n",
    "ax.gridlines()\n",
    "\n",
    "# Plot the data\n",
    "# The data is in Kelvin, convert to Celsius by subtracting 273.15\n",
    "im = (dewpoint_one_time - 273.15).plot(\n",
    "    transform=ccrs.PlateCarree(),\n",
    "    cmap='RdYlBu_r',  # Red-Yellow-Blue colormap, reversed\n",
    "    vmin=-30,         # minimum temperature in Celsius\n",
    "    vmax=30,          # maximum temperature in Celsius\n",
    "    cbar_kwargs={'label': 'Dewpoint Temperature (°C)'}\n",
    ")\n",
    "\n",
    "plt.title(f'Global 2m Dewpoint Temperature\\n{specific_time}')\n",
    "plt.show()"
   ]
  },
  {
   "cell_type": "markdown",
   "metadata": {},
   "source": [
    "# Total precipitation (m)\n",
    "This parameter is the accumulated liquid and frozen water, comprising rain and snow, that falls to the Earth's surface. It is the sum of large-scale precipitation and convective precipitation. Large-scale precipitation is generated by the cloud scheme in the ECMWF Integrated Forecasting System (IFS). The cloud scheme represents the formation and dissipation of clouds and large-scale precipitation due to changes in atmospheric quantities (such as pressure, temperature and moisture) predicted directly by the IFS at spatial scales of the grid box or larger. Convective precipitation is generated by the convection scheme in the IFS, which represents convection at spatial scales smaller than the grid box. This parameter does not include fog, dew or the precipitation that evaporates in the atmosphere before it lands at the surface of the Earth. This parameter is accumulated over a particular time period which depends on the data extracted. For the reanalysis, the accumulation period is over the 1 hour ending at the validity date and time. For the ensemble members, ensemble mean and ensemble spread, the accumulation period is over the 3 hours ending at the validity date and time. The units of this parameter are depth in metres of water equivalent. It is the depth the water would have if it were spread evenly over the grid box. Care should be taken when comparing model parameters with observations, because observations are often local to a particular point in space and time, rather than representing averages over a model grid box."
   ]
  },
  {
   "cell_type": "code",
   "execution_count": null,
   "metadata": {},
   "outputs": [],
   "source": [
    "drive_url_total_precipitation_2023 = \"https://drive.google.com/uc?export=download&id=1HtqZBwzgGxRtP47MNVGzMlhI68mX3vaR\"\n",
    "file_name_total_precipitation_2023 = \"total_precipitation_2023.netcdf\"\n",
    "download_weather_data(drive_url_total_precipitation_2023, file_name_total_precipitation_2023)"
   ]
  },
  {
   "cell_type": "code",
   "execution_count": null,
   "metadata": {},
   "outputs": [],
   "source": [
    "ds_total_precipitation_2023 = xr.open_dataset(\"../../drive_downloaded_files/\" + file_name_total_precipitation_2023)\n",
    "ds_total_precipitation_2023"
   ]
  },
  {
   "cell_type": "code",
   "execution_count": null,
   "metadata": {},
   "outputs": [],
   "source": [
    "precip_avg = get_variable_average(ds_total_precipitation_2023, lat, lon, 'tp')\n",
    "print(f\"Average precipitation: {precip_avg} m\")"
   ]
  },
  {
   "cell_type": "code",
   "execution_count": null,
   "metadata": {},
   "outputs": [],
   "source": [
    "# Visually check the data for a specific datetime (dt).\n",
    "specific_time = '2023-01-01T12:00'\n",
    "precipitation_one_time = ds_total_precipitation_2023['tp'].sel(valid_time=specific_time)\n",
    "\n",
    "# Create the map\n",
    "plt.figure(figsize=(15, 10))\n",
    "ax = plt.axes(projection=ccrs.Robinson())\n",
    "ax.coastlines()\n",
    "ax.gridlines()\n",
    "\n",
    "# Plot the data\n",
    "# Convert from m to mm (multiply by 1000)\n",
    "im = precipitation_one_time.plot(\n",
    "    transform=ccrs.PlateCarree(),\n",
    "    cmap='Blues',\n",
    "    vmin=0,\n",
    "    vmax=np.percentile(precipitation_one_time, 99),  # use 99th percentile for better visualization\n",
    "    cbar_kwargs={'label': 'Precipitation (mm)'}\n",
    ")\n",
    "\n",
    "plt.title(f'Global Total Precipitation\\n{specific_time}')\n",
    "plt.show()"
   ]
  }
 ],
 "metadata": {
  "kernelspec": {
   "display_name": "base",
   "language": "python",
   "name": "python3"
  },
  "language_info": {
   "codemirror_mode": {
    "name": "ipython",
    "version": 3
   },
   "file_extension": ".py",
   "mimetype": "text/x-python",
   "name": "python",
   "nbconvert_exporter": "python",
   "pygments_lexer": "ipython3",
   "version": "3.11.5"
  }
 },
 "nbformat": 4,
 "nbformat_minor": 2
}
