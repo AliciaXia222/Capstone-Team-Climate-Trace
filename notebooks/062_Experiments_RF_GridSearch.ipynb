{
 "cells": [
  {
   "cell_type": "code",
   "execution_count": 1,
   "metadata": {},
   "outputs": [],
   "source": [
    "import sys\n",
    "import os\n",
    "from datetime import datetime\n",
    "import time\n",
    "import pandas as pd\n",
    "import numpy as np\n",
    "from sklearn.linear_model import LinearRegression, Ridge\n",
    "from sklearn.metrics import mean_squared_error, r2_score, mean_absolute_error\n",
    "pd.set_option('display.max_rows', None)\n",
    "from sklearn.preprocessing import StandardScaler\n",
    "from sklearn.neighbors import KNeighborsRegressor\n",
    "import matplotlib.pyplot as plt\n",
    "import seaborn as sns\n",
    "from sklearn.ensemble import RandomForestRegressor\n"
   ]
  },
  {
   "cell_type": "code",
   "execution_count": 2,
   "metadata": {},
   "outputs": [],
   "source": [
    "sys.path.append(os.path.abspath('../src'))\n",
    "from lib import (\n",
    "    train_and_evaluate_models,\n",
    "    convert_results_to_dataframe,\n",
    "    create_eui_comparison_plots,\n",
    "    evaluate_model_strategies,\n",
    "    calculate_average_metrics,\n",
    "    create_error_distribution_plots,\n",
    "    grid_search_best_params\n",
    ")"
   ]
  },
  {
   "cell_type": "code",
   "execution_count": 3,
   "metadata": {},
   "outputs": [],
   "source": [
    "merged_df_path = \"../data/03_processed/merged_df.csv\"\n",
    "merged_df = pd.read_csv(merged_df_path)\n",
    "merged_df = merged_df.rename(columns={'total_year': 'hdd_total_year'})\n",
    "\n",
    "# GDP per capita\n",
    "merged_df['GDP_per_capita'] = merged_df['GDP_2022'] / merged_df['Population_2023']\n",
    "\n",
    "# Delete Taiwan (temporal)\n",
    "merged_df = merged_df[merged_df['Country'] != 'Taiwan']\n",
    "\n",
    "#np.random.seed(123)\n",
    "#merged_df['is_train'] = np.random.choice([1, 0], size=len(merged_df), p=[0.8, 0.2])"
   ]
  },
  {
   "cell_type": "markdown",
   "metadata": {},
   "source": [
    "# Train / Test"
   ]
  },
  {
   "cell_type": "code",
   "execution_count": 4,
   "metadata": {},
   "outputs": [],
   "source": [
    "train_test_split_original_data_path = \"../data/03_processed/train_test_split_original_data.csv\"\n",
    "train_test_split_original_data = pd.read_csv(train_test_split_original_data_path)\n",
    "\n",
    "train_test_split_new_data_path = \"../data/03_processed/train_test_split_new_data.csv\"\n",
    "train_test_split_new_data = pd.read_csv(train_test_split_new_data_path)\n",
    "\n",
    "train_test_split = pd.concat([train_test_split_original_data, train_test_split_new_data], ignore_index=True)\n",
    "\n",
    "merged_df = merged_df.merge(train_test_split, on=['index', 'geonameid'], how='left')\n",
    "\n",
    "# We want to keep original data \n",
    "merged_df = merged_df[merged_df[\"source\"] == \"World Bank CURB\"]"
   ]
  },
  {
   "cell_type": "code",
   "execution_count": 5,
   "metadata": {},
   "outputs": [],
   "source": [
    "\n",
    "features = [\n",
    "    \"hdd_total_year\", \n",
    "    \"cdd_total_year\", \n",
    "    # \"GDP_per_capita\", \n",
    "    \"Urbanization_Rate_2022\",\n",
    "    \"latitude\",\n",
    "    \"longitude\",  \n",
    "    # \"Paris_Agreement\",\n",
    "    \"Subnational HDI\", \n",
    "    \"Educational index\", \n",
    "    \"Income index\",\n",
    "    \"2m_temperature_2023_avg\",\n",
    "    \"2m_dewpoint_temperature_2023_avg\",\n",
    "    \"total_precipitation_2023\",\n",
    "    # \"longitude_sin\", \n",
    "    # \"longitude_cos\", \n",
    "    # \"latitude_sin\", \n",
    "    # \"latitude_cos\",  \n",
    "    # \"population_density\",\n",
    "\n",
    "    # Image data\n",
    "\n",
    "    # \"pca_result\", \n",
    "    # \"K_mean_label\", \n",
    "    # \"C_mean_label\", \n",
    "    # \"GMM_label\", \n",
    "    # \"Cluster_1\",\n",
    "    # \"Cluster_2\", \n",
    "    # \"Cluster_3\",\n",
    "    # \"Cluster_4\", \n",
    "    # \"Cluster_5\",\n",
    "    # \"Cluster_6\", \n",
    "    # \"Cluster_7\", \n",
    "    # \"Cluster_8\", \n",
    "    # \"Cluster_9\", \n",
    "    # \"Cluster_10\",\n",
    "    # \"Cluster_11\", \n",
    "    # \"Cluster_12\", \n",
    "    # \"Cluster_13\", \n",
    "    # \"Cluster_14\", \n",
    "    # \"Cluster_15\",\n",
    "    # \"Cluster_16\", \n",
    "    # \"Cluster_17\", \n",
    "    # \"Cluster_18\", \n",
    "    # \"Cluster_19\"\n",
    "]\n",
    "\n",
    "feature_abbreviations = {\n",
    "    \"hdd_total_year\": \"HDD\",\n",
    "    \"cdd_total_year\": \"CDD\", \n",
    "    # \"GDP_per_capita\": \"GDP\",\n",
    "    \"Urbanization_Rate_2022\": \"URB\",\n",
    "    \"latitude\": \"Lat\",\n",
    "    \"longitude\": \"Long\",\n",
    "    # \"Paris_Agreement\": \"Paris\",\n",
    "    \"Subnational HDI\": \"HDI\", \n",
    "    \"Educational index\": \"EDU\", \n",
    "    \"Income index\": \"Income\",\n",
    "    \"2m_temperature_2023_avg\": \"Temp\",\n",
    "    \"2m_dewpoint_temperature_2023_avg\": \"Dew\",\n",
    "    \"total_precipitation_2023\": \"Precip\",\n",
    "    # \"longitude_sin\": \"Long_Sin\", \n",
    "    # \"longitude_cos\": \"Long_Cos\", \n",
    "    # \"latitude_sin\": \"Lat_Sin\", \n",
    "    # \"latitude_cos\": \"Lat_Cos\",  \n",
    "    # \"population_density\": \"Pop_Dens\",\n",
    "    # \"pca_result\": \"PCA\",\n",
    "    # \"Cluster_1\": \"C1\",\n",
    "    # \"Cluster_2\": \"C2\",\n",
    "    # \"Cluster_3\": \"C3\",\n",
    "    # \"Cluster_4\": \"C4\",\n",
    "    # \"Cluster_5\": \"C5\",\n",
    "    # \"Cluster_6\": \"C6\",\n",
    "    # \"Cluster_7\": \"C7\",\n",
    "    # \"Cluster_8\": \"C8\",\n",
    "    # \"Cluster_9\": \"C9\",\n",
    "    # \"Cluster_10\": \"C10\",\n",
    "    # \"Cluster_11\": \"C11\",\n",
    "    # \"Cluster_12\": \"C12\",\n",
    "    # \"Cluster_13\": \"C13\",\n",
    "    # \"Cluster_14\": \"C14\",\n",
    "    # \"Cluster_15\": \"C15\",\n",
    "    # \"Cluster_16\": \"C16\",\n",
    "    # \"Cluster_17\": \"C17\",\n",
    "    # \"Cluster_18\": \"C18\",\n",
    "    # \"Cluster_19\": \"C19\"\n",
    "}\n",
    "\n",
    "\n",
    "target_columns = [\n",
    "    \"Residential EUI (kWh/m2/year)\",\n",
    "    \"Non-residential EUI (kWh/m2/year)\"\n",
    "]\n",
    "\n",
    "regions = ['Asia & Oceania', 'Europe', 'Africa', 'Central and South America', 'Northern America']\n"
   ]
  },
  {
   "cell_type": "markdown",
   "metadata": {},
   "source": [
    "# Random Forest - Grid Serach"
   ]
  },
  {
   "cell_type": "code",
   "execution_count": null,
   "metadata": {},
   "outputs": [
    {
     "name": "stdout",
     "output_type": "stream",
     "text": [
      "Evaluating combination 1/2880: {'n_estimators': 10, 'max_depth': None, 'min_samples_split': 2, 'min_samples_leaf': 1, 'max_features': 'sqrt', 'bootstrap': True, 'random_state': 42, 'n_jobs': -1, 'criterion': 'squared_error'}\n",
      "Strategy 'within_domain' - Overall Average MAPE: 13.39%\n",
      "Strategy 'cross_domain' - Overall Average MAPE: 18.15%\n",
      "Strategy 'all_domain' - Overall Average MAPE: 13.95%\n",
      "Evaluating combination 2/2880: {'n_estimators': 10, 'max_depth': None, 'min_samples_split': 2, 'min_samples_leaf': 1, 'max_features': 'sqrt', 'bootstrap': True, 'random_state': 42, 'n_jobs': -1, 'criterion': 'absolute_error'}\n"
     ]
    }
   ],
   "source": [
    "# Define parameter grid for RandomForestRegressor\n",
    "\n",
    "rf_param_grid = {\n",
    "    'n_estimators': [10, 30, 50, 100],\n",
    "    'max_depth': [None, 5, 10, 15, 20],\n",
    "    'min_samples_split': [2, 5, 10],\n",
    "    'min_samples_leaf': [1, 2, 3, 5],\n",
    "    'max_features': ['sqrt', 'log2'],\n",
    "    'bootstrap': [True, False],\n",
    "    'random_state': [42],\n",
    "    'n_jobs': [-1],\n",
    "    'criterion': ['squared_error', 'absolute_error', 'poisson']\n",
    "}\n",
    "\n",
    "# Run grid search with cross-validation\n",
    "best_params, best_score, all_results = grid_search_best_params(\n",
    "    merged_df=merged_df,\n",
    "    regions=regions,\n",
    "    features=features,\n",
    "    model_class=RandomForestRegressor,\n",
    "    param_grid=rf_param_grid,\n",
    "    feature_abbreviations=feature_abbreviations\n",
    ")\n",
    "\n",
    "rf_params = best_params\n",
    "\n",
    "timestamp = datetime.now().strftime(\"%Y%m%d_%H%M\")\n",
    "rf_grid_search_results = convert_results_to_dataframe(all_results, features)\n",
    "rf_grid_search_results.to_csv(f'../results/gridsearch/{timestamp}_rf_grid_search_results.csv')"
   ]
  },
  {
   "cell_type": "markdown",
   "metadata": {},
   "source": [
    "# "
   ]
  }
 ],
 "metadata": {
  "kernelspec": {
   "display_name": "base",
   "language": "python",
   "name": "python3"
  },
  "language_info": {
   "codemirror_mode": {
    "name": "ipython",
    "version": 3
   },
   "file_extension": ".py",
   "mimetype": "text/x-python",
   "name": "python",
   "nbconvert_exporter": "python",
   "pygments_lexer": "ipython3",
   "version": "3.11.5"
  }
 },
 "nbformat": 4,
 "nbformat_minor": 2
}
