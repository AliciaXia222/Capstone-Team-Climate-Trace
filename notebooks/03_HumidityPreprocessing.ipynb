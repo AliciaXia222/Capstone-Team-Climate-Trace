{
 "cells": [
  {
   "cell_type": "code",
   "execution_count": 4,
   "metadata": {},
   "outputs": [],
   "source": [
    "import pandas as pd\n",
    "import numpy as np\n"
   ]
  },
  {
   "cell_type": "code",
   "execution_count": 5,
   "metadata": {},
   "outputs": [],
   "source": [
    "\n",
    "# Create sample data\n",
    "data = {\n",
    "    'Column1': np.random.randint(0, 100, 10),  # 10 random values between 0 and 100\n",
    "    'Column2': np.random.random(10),  # 10 random float values between 0 and 1\n",
    "    'Column3': np.random.choice(['A', 'B', 'C'], 10)  # 10 random values from 'A', 'B', or 'C'\n",
    "}\n",
    "\n",
    "# Create the sample DataFrame\n",
    "sample_df = pd.DataFrame(data)\n",
    "\n",
    "# save Meixiang output\n",
    "sample_df.to_csv('../data/interim/HDD_test.csv', index=False)\n",
    "\n"
   ]
  },
  {
   "cell_type": "code",
   "execution_count": null,
   "metadata": {},
   "outputs": [],
   "source": []
  }
 ],
 "metadata": {
  "kernelspec": {
   "display_name": "base",
   "language": "python",
   "name": "python3"
  },
  "language_info": {
   "codemirror_mode": {
    "name": "ipython",
    "version": 3
   },
   "file_extension": ".py",
   "mimetype": "text/x-python",
   "name": "python",
   "nbconvert_exporter": "python",
   "pygments_lexer": "ipython3",
   "version": "3.11.5"
  }
 },
 "nbformat": 4,
 "nbformat_minor": 2
}
