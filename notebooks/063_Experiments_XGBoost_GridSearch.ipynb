{
 "cells": [
  {
   "cell_type": "code",
   "execution_count": 1,
   "metadata": {},
   "outputs": [],
   "source": [
    "import sys\n",
    "import os\n",
    "from datetime import datetime\n",
    "import time\n",
    "import pandas as pd\n",
    "import numpy as np\n",
    "from sklearn.linear_model import LinearRegression, Ridge\n",
    "from sklearn.metrics import mean_squared_error, r2_score, mean_absolute_error\n",
    "pd.set_option('display.max_rows', None)\n",
    "from sklearn.preprocessing import StandardScaler\n",
    "from sklearn.neighbors import KNeighborsRegressor\n",
    "import matplotlib.pyplot as plt\n",
    "import seaborn as sns\n",
    "import xgboost as xgb\n"
   ]
  },
  {
   "cell_type": "code",
   "execution_count": 2,
   "metadata": {},
   "outputs": [],
   "source": [
    "sys.path.append(os.path.abspath('../src'))\n",
    "from lib import (\n",
    "    train_and_evaluate_models,\n",
    "    convert_results_to_dataframe,\n",
    "    create_eui_comparison_plots,\n",
    "    evaluate_model_strategies,\n",
    "    calculate_average_metrics,\n",
    "    create_error_distribution_plots,\n",
    "    grid_search_best_params\n",
    ")"
   ]
  },
  {
   "cell_type": "code",
   "execution_count": 3,
   "metadata": {},
   "outputs": [],
   "source": [
    "n_clusters = 10  #5, 10 or 20"
   ]
  },
  {
   "cell_type": "code",
   "execution_count": 4,
   "metadata": {},
   "outputs": [],
   "source": [
    "output_path = \"../data/03_processed/merged_df.csv\"\n",
    "merged_df = pd.read_csv(output_path)\n",
    "merged_df = merged_df.rename(columns={'total_year': 'hdd_total_year'})\n",
    "\n",
    "# GDP per capita\n",
    "merged_df['GDP_per_capita'] = merged_df['GDP_2022'] / merged_df['Population_2023']\n",
    "\n",
    "# Delete Taiwan (temporal)\n",
    "merged_df = merged_df[merged_df['Country'] != 'Taiwan']\n",
    "\n",
    "#np.random.seed(123)\n",
    "#merged_df['is_train'] = np.random.choice([1, 0], size=len(merged_df), p=[0.8, 0.2])"
   ]
  },
  {
   "cell_type": "markdown",
   "metadata": {},
   "source": [
    "# Train / Test"
   ]
  },
  {
   "cell_type": "code",
   "execution_count": 5,
   "metadata": {},
   "outputs": [],
   "source": [
    "train_test_split_original_data_path = \"../data/03_processed/train_test_split_original_data.csv\"\n",
    "train_test_split_original_data = pd.read_csv(train_test_split_original_data_path)\n",
    "\n",
    "train_test_split_new_data_path = \"../data/03_processed/train_test_split_new_data.csv\"\n",
    "train_test_split_new_data = pd.read_csv(train_test_split_new_data_path)\n",
    "\n",
    "train_test_split = pd.concat([train_test_split_original_data, train_test_split_new_data], ignore_index=True)\n",
    "\n",
    "merged_df = merged_df.merge(train_test_split, on=['index', 'geonameid'], how='left')\n",
    "\n",
    "# We want to keep original data \n",
    "merged_df = merged_df[merged_df[\"source\"] == \"World Bank CURB\"]"
   ]
  },
  {
   "cell_type": "markdown",
   "metadata": {},
   "source": [
    "# Delete Image Null"
   ]
  },
  {
   "cell_type": "code",
   "execution_count": 6,
   "metadata": {},
   "outputs": [
    {
     "name": "stdout",
     "output_type": "stream",
     "text": [
      "(481, 78)\n",
      "(473, 78)\n"
     ]
    }
   ],
   "source": [
    "print(merged_df.shape)\n",
    "\n",
    "merged_df = merged_df.dropna(subset=['pca_result'])\n",
    "\n",
    "print(merged_df.shape)"
   ]
  },
  {
   "cell_type": "code",
   "execution_count": 7,
   "metadata": {},
   "outputs": [],
   "source": [
    "feature_selection = f\"{n_clusters}_clusters\" \n",
    "\n",
    "features = [\n",
    "    \"hdd_total_year\", \n",
    "    \"cdd_total_year\", \n",
    "    \"GDP_per_capita\", \n",
    "    \"Urbanization_Rate_2022\",\n",
    "    \"latitude\",\n",
    "    \"longitude\",  \n",
    "    \"Paris_Agreement\",\n",
    "    \"Subnational HDI\", \n",
    "    \"Educational index\", \n",
    "    \"Income index\",\n",
    "    \"2m_temperature_2023_avg\",\n",
    "    \"2m_dewpoint_temperature_2023_avg\",\n",
    "    \"total_precipitation_2023\",\n",
    "    #\"longitude_sin\", \n",
    "    #\"longitude_cos\", \n",
    "    #\"latitude_sin\", \n",
    "    #\"latitude_cos\",  \n",
    "    \"population_density\",\n",
    "\n",
    "    #Image data\n",
    "    'pca_result'\n",
    "    ]\n",
    "\n",
    "features += [f'Cluster_{n_clusters}_{i}' for i in range(n_clusters)]\n",
    "\n",
    "\n",
    "feature_abbreviations = {\n",
    "    \"hdd_total_year\": \"Heating Degree Days\",\n",
    "    \"cdd_total_year\": \"Cooling Degree Days\", \n",
    "    \"GDP_per_capita\": \"GDP per Capita\",\n",
    "    \"Urbanization_Rate_2022\": \"Urbanization Rate\",\n",
    "    \"latitude\": \"Latitude\",\n",
    "    \"longitude\": \"Longitude\",  \n",
    "    \"Paris_Agreement\": \"Paris Agreement\",\n",
    "    \"Subnational HDI\": \"Human Development Index\",\n",
    "    \"Educational index\": \"Educational Index\", \n",
    "    \"Income index\": \"Income Index\",\n",
    "    \"2m_temperature_2023_avg\": \"Avg Temperature\",\n",
    "    \"2m_dewpoint_temperature_2023_avg\": \"Avg Dewpoint Temp\",\n",
    "    \"total_precipitation_2023\": \"Precipitation\",\n",
    "    \"longitude_sin\": \"Longitude Sin\", \n",
    "    \"longitude_cos\": \"Longitude Cos\", \n",
    "    \"latitude_sin\": \"Latitude Sin\", \n",
    "    \"latitude_cos\": \"Latitude Cos\",  \n",
    "    \"population_density\": \"Population Density\",\n",
    "\n",
    "    # Image-based features\n",
    "    \"pca_result\": \"First Principal Component (PCA)\",\n",
    "}\n",
    "\n",
    "feature_abbreviations.update({f'Cluster_{n_clusters}_{i}': f'Fuzzy C-means Image Cluster {i}' for i in range(n_clusters)})\n",
    "\n",
    "\n",
    "target_columns = [\n",
    "    \"Residential EUI (kWh/m2/year)\",\n",
    "    \"Non-residential EUI (kWh/m2/year)\"\n",
    "]\n",
    "\n",
    "regions = ['Asia & Oceania', 'Europe', 'Africa', 'Central and South America', 'Northern America']\n"
   ]
  },
  {
   "cell_type": "markdown",
   "metadata": {},
   "source": [
    "# XGBoost - Grid Serach"
   ]
  },
  {
   "cell_type": "code",
   "execution_count": 8,
   "metadata": {},
   "outputs": [
    {
     "name": "stdout",
     "output_type": "stream",
     "text": [
      "Evaluating combination 1/2: {'n_estimators': 100}\n",
      "Strategy 'within_domain' - Overall Average MAPE: 13.07%\n",
      "Strategy 'cross_domain' - Overall Average MAPE: 19.76%\n",
      "Strategy 'all_domain' - Overall Average MAPE: 12.54%\n",
      "Evaluating combination 2/2: {'n_estimators': 200}\n",
      "Strategy 'within_domain' - Overall Average MAPE: 13.07%\n",
      "Strategy 'cross_domain' - Overall Average MAPE: 19.76%\n",
      "Strategy 'all_domain' - Overall Average MAPE: 12.54%\n",
      "\n",
      "=== Best Parameters for cross_domain strategy ===\n",
      "{'n_estimators': 100}\n",
      "Cross-domain Average CV MAPE: 19.76%\n"
     ]
    }
   ],
   "source": [
    "# Define parameter grid for XGBoost\n",
    "xgb_param_grid = {\n",
    "    'n_estimators': [100, 200],\n",
    "    #'max_depth': [4, 6, 8],\n",
    "    #'learning_rate': [0.01, 0.05, 0.1, 0.2],\n",
    "    #'subsample': [0.8, 0.9],\n",
    "    #'colsample_bytree': [0.7, 0.9],\n",
    "    #'min_child_weight': [1, 3],\n",
    "    #'gamma': [0, 0.1],\n",
    "    #'random_state': [42]\n",
    "}\n",
    "# Run grid search with cross-validation\n",
    "xgb_best_params, xgb_best_score, xgb_all_results = grid_search_best_params(\n",
    "    merged_df=merged_df,\n",
    "    regions=regions,\n",
    "    features=features,\n",
    "    model_class=xgb.XGBRegressor,\n",
    "    param_grid=xgb_param_grid,\n",
    "    feature_abbreviations=feature_abbreviations\n",
    ")\n",
    "\n",
    "# Store the best parameters\n",
    "xgb_params = xgb_best_params\n",
    "\n",
    "# Save the grid search results\n",
    "timestamp = datetime.now().strftime(\"%Y%m%d_%H%M\")\n",
    "xgb_grid_search_results = convert_results_to_dataframe(xgb_all_results, features)\n",
    "xgb_grid_search_results.to_csv(f'../results/gridsearch/{timestamp}_xgb_grid_search_results.csv')"
   ]
  },
  {
   "cell_type": "markdown",
   "metadata": {},
   "source": [
    "# "
   ]
  }
 ],
 "metadata": {
  "kernelspec": {
   "display_name": "base",
   "language": "python",
   "name": "python3"
  },
  "language_info": {
   "codemirror_mode": {
    "name": "ipython",
    "version": 3
   },
   "file_extension": ".py",
   "mimetype": "text/x-python",
   "name": "python",
   "nbconvert_exporter": "python",
   "pygments_lexer": "ipython3",
   "version": "3.11.5"
  }
 },
 "nbformat": 4,
 "nbformat_minor": 2
}
