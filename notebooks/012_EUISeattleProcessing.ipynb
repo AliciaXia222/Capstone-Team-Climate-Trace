{
 "cells": [
  {
   "cell_type": "code",
   "execution_count": 1,
   "metadata": {},
   "outputs": [],
   "source": [
    "import pandas as pd"
   ]
  },
  {
   "cell_type": "code",
   "execution_count": 2,
   "metadata": {},
   "outputs": [],
   "source": [
    "# load seattle data\n",
    "\n",
    "seattle_df = pd.read_csv(\n",
    "    \"https://docs.google.com/uc?export=download&id=1X-6yvLm5z8K6_J-RIHfXuMEuvQcj-pus\"\n",
    ")"
   ]
  },
  {
   "cell_type": "code",
   "execution_count": 3,
   "metadata": {},
   "outputs": [
    {
     "data": {
      "text/plain": [
       "Index(['OSEBuildingID', 'DataYear', 'BuildingName', 'BuildingType',\n",
       "       'TaxParcelIdentificationNumber', 'Address', 'City', 'State', 'ZipCode',\n",
       "       'Latitude', 'Longitude', 'Neighborhood', 'CouncilDistrictCode',\n",
       "       'YearBuilt', 'NumberofFloors', 'NumberofBuildings', 'PropertyGFATotal',\n",
       "       'PropertyGFABuildings', 'PropertyGFAParking', 'SelfReportGFATotal',\n",
       "       'SelfReportGFABuildings', 'SelfReportParking', 'ENERGYSTARScore',\n",
       "       'SiteEUIWN(kBtu/sf)', 'SiteEUI(kBtu/sf)', 'SiteEnergyUse(kBtu)',\n",
       "       'SiteEnergyUseWN(kBtu)', 'SourceEUIWN(kBtu/sf)', 'SourceEUI(kBtu/sf)',\n",
       "       'EPAPropertyType', 'LargestPropertyUseType',\n",
       "       'LargestPropertyUseTypeGFA', 'SecondLargestPropertyUseType',\n",
       "       'SecondLargestPropertyUseTypeGFA', 'ThirdLargestPropertyUseType',\n",
       "       'ThirdLargestPropertyUseTypeGFA', 'Electricity(kWh)', 'SteamUse(kBtu)',\n",
       "       'NaturalGas(therms)', 'ComplianceStatus', 'ComplianceIssue',\n",
       "       'Electricity(kBtu)', 'NaturalGas(kBtu)', 'TotalGHGEmissions',\n",
       "       'GHGEmissionsIntensity', 'Demolished'],\n",
       "      dtype='object')"
      ]
     },
     "execution_count": 3,
     "metadata": {},
     "output_type": "execute_result"
    }
   ],
   "source": [
    "seattle_df.columns"
   ]
  },
  {
   "cell_type": "code",
   "execution_count": 4,
   "metadata": {},
   "outputs": [],
   "source": [
    "# classification based on seattle policy\n",
    "property_type_classification = {\n",
    "    # residential\n",
    "    \"Multifamily HR (10+)\": \"Residential\",\n",
    "    \"Multifamily MR (5-9)\": \"Residential\",\n",
    "    \"Multifamily LR (1-4)\": \"Residential\",\n",
    "    # non-residential\n",
    "    \"NonResidential\": \"Non-Residential\",\n",
    "    \"Nonresidential COS\": \"Non-Residential\",\n",
    "}"
   ]
  },
  {
   "cell_type": "code",
   "execution_count": 5,
   "metadata": {},
   "outputs": [],
   "source": [
    "# classification projection\n",
    "seattle_df[\"Property Type Category\"] = seattle_df[\"BuildingType\"].map(\n",
    "    property_type_classification\n",
    ")"
   ]
  },
  {
   "cell_type": "code",
   "execution_count": 6,
   "metadata": {},
   "outputs": [],
   "source": [
    "# fitter buildings based on the seattle policy\n",
    "valid_buildings = seattle_df[\n",
    "    (seattle_df[\"PropertyGFATotal\"] > 20000)\n",
    "    & (seattle_df[\"DataYear\"] >= 2016)\n",
    "    & (seattle_df[\"ComplianceStatus\"] == \"Compliant\")\n",
    "    & (\n",
    "        ~seattle_df[\"ComplianceIssue\"].str.contains(\n",
    "            \"Missing EUI|Incomplete Fuel\", na=False\n",
    "        )\n",
    "    )\n",
    "].copy()"
   ]
  },
  {
   "cell_type": "code",
   "execution_count": 7,
   "metadata": {},
   "outputs": [],
   "source": [
    "# 1 therm = 100 kBtu\n",
    "valid_buildings[\"NaturalGas(kBtu)\"] = valid_buildings[\"NaturalGas(therms)\"] * 100\n",
    "\n",
    "# define direct emission (only natural gas)\n",
    "direct_energy_columns = [\"NaturalGas(kBtu)\"]\n",
    "\n",
    "# calculate total energy\n",
    "valid_buildings[\"Direct Energy Use (kBtu)\"] = valid_buildings[\n",
    "    direct_energy_columns\n",
    "].sum(axis=1)"
   ]
  },
  {
   "cell_type": "code",
   "execution_count": 8,
   "metadata": {},
   "outputs": [],
   "source": [
    "kBtu_to_kWh = 0.2931\n",
    "ft2_to_m2 = 0.092903\n",
    "\n",
    "# calculate direct EUI（kWh/m²）\n",
    "valid_buildings[\"Direct EUI (kWh/m²)\"] = (\n",
    "    valid_buildings[\"Direct Energy Use (kBtu)\"] * kBtu_to_kWh\n",
    ") / (valid_buildings[\"PropertyGFATotal\"] * ft2_to_m2)\n",
    "\n",
    "# calculate EUI depends on differet types\n",
    "valid_buildings[\"Residential EUI (kWh/m²/year)\"] = valid_buildings.apply(\n",
    "    lambda x: (\n",
    "        x[\"Direct EUI (kWh/m²)\"]\n",
    "        if x[\"Property Type Category\"] == \"Residential\"\n",
    "        else None\n",
    "    ),\n",
    "    axis=1,\n",
    ")\n",
    "\n",
    "valid_buildings[\"Non-residential EUI (kWh/m²/year)\"] = valid_buildings.apply(\n",
    "    lambda x: (\n",
    "        x[\"Direct EUI (kWh/m²)\"]\n",
    "        if x[\"Property Type Category\"] == \"Non-Residential\"\n",
    "        else None\n",
    "    ),\n",
    "    axis=1,\n",
    ")"
   ]
  },
  {
   "cell_type": "code",
   "execution_count": 9,
   "metadata": {},
   "outputs": [
    {
     "data": {
      "text/html": [
       "<div>\n",
       "<style scoped>\n",
       "    .dataframe tbody tr th:only-of-type {\n",
       "        vertical-align: middle;\n",
       "    }\n",
       "\n",
       "    .dataframe tbody tr th {\n",
       "        vertical-align: top;\n",
       "    }\n",
       "\n",
       "    .dataframe thead th {\n",
       "        text-align: right;\n",
       "    }\n",
       "</style>\n",
       "<table border=\"1\" class=\"dataframe\">\n",
       "  <thead>\n",
       "    <tr style=\"text-align: right;\">\n",
       "      <th></th>\n",
       "      <th>latitude</th>\n",
       "      <th>longitude</th>\n",
       "      <th>Residential EUI (kWh/m²/year)</th>\n",
       "      <th>Non-residential EUI (kWh/m²/year)</th>\n",
       "    </tr>\n",
       "  </thead>\n",
       "  <tbody>\n",
       "    <tr>\n",
       "      <th>0</th>\n",
       "      <td>47.61220</td>\n",
       "      <td>-122.33799</td>\n",
       "      <td>NaN</td>\n",
       "      <td>57.073237</td>\n",
       "    </tr>\n",
       "    <tr>\n",
       "      <th>1</th>\n",
       "      <td>47.61307</td>\n",
       "      <td>-122.33361</td>\n",
       "      <td>NaN</td>\n",
       "      <td>117.494765</td>\n",
       "    </tr>\n",
       "    <tr>\n",
       "      <th>2</th>\n",
       "      <td>47.61367</td>\n",
       "      <td>-122.33822</td>\n",
       "      <td>NaN</td>\n",
       "      <td>19.470379</td>\n",
       "    </tr>\n",
       "    <tr>\n",
       "      <th>4</th>\n",
       "      <td>47.61375</td>\n",
       "      <td>-122.34047</td>\n",
       "      <td>NaN</td>\n",
       "      <td>145.411619</td>\n",
       "    </tr>\n",
       "    <tr>\n",
       "      <th>5</th>\n",
       "      <td>47.61623</td>\n",
       "      <td>-122.33657</td>\n",
       "      <td>NaN</td>\n",
       "      <td>102.003834</td>\n",
       "    </tr>\n",
       "    <tr>\n",
       "      <th>...</th>\n",
       "      <td>...</td>\n",
       "      <td>...</td>\n",
       "      <td>...</td>\n",
       "      <td>...</td>\n",
       "    </tr>\n",
       "    <tr>\n",
       "      <th>27463</th>\n",
       "      <td>47.55976</td>\n",
       "      <td>-122.38320</td>\n",
       "      <td>24.314778</td>\n",
       "      <td>NaN</td>\n",
       "    </tr>\n",
       "    <tr>\n",
       "      <th>27464</th>\n",
       "      <td>47.61791</td>\n",
       "      <td>-122.30230</td>\n",
       "      <td>45.174678</td>\n",
       "      <td>NaN</td>\n",
       "    </tr>\n",
       "    <tr>\n",
       "      <th>27466</th>\n",
       "      <td>47.70562</td>\n",
       "      <td>-122.32319</td>\n",
       "      <td>NaN</td>\n",
       "      <td>0.000000</td>\n",
       "    </tr>\n",
       "    <tr>\n",
       "      <th>27467</th>\n",
       "      <td>47.63191</td>\n",
       "      <td>-122.31523</td>\n",
       "      <td>NaN</td>\n",
       "      <td>634.533247</td>\n",
       "    </tr>\n",
       "    <tr>\n",
       "      <th>27468</th>\n",
       "      <td>47.60775</td>\n",
       "      <td>-122.30225</td>\n",
       "      <td>NaN</td>\n",
       "      <td>164.275275</td>\n",
       "    </tr>\n",
       "  </tbody>\n",
       "</table>\n",
       "<p>25384 rows × 4 columns</p>\n",
       "</div>"
      ],
      "text/plain": [
       "       latitude  longitude  Residential EUI (kWh/m²/year)  \\\n",
       "0      47.61220 -122.33799                            NaN   \n",
       "1      47.61307 -122.33361                            NaN   \n",
       "2      47.61367 -122.33822                            NaN   \n",
       "4      47.61375 -122.34047                            NaN   \n",
       "5      47.61623 -122.33657                            NaN   \n",
       "...         ...        ...                            ...   \n",
       "27463  47.55976 -122.38320                      24.314778   \n",
       "27464  47.61791 -122.30230                      45.174678   \n",
       "27466  47.70562 -122.32319                            NaN   \n",
       "27467  47.63191 -122.31523                            NaN   \n",
       "27468  47.60775 -122.30225                            NaN   \n",
       "\n",
       "       Non-residential EUI (kWh/m²/year)  \n",
       "0                              57.073237  \n",
       "1                             117.494765  \n",
       "2                              19.470379  \n",
       "4                             145.411619  \n",
       "5                             102.003834  \n",
       "...                                  ...  \n",
       "27463                                NaN  \n",
       "27464                                NaN  \n",
       "27466                           0.000000  \n",
       "27467                         634.533247  \n",
       "27468                         164.275275  \n",
       "\n",
       "[25384 rows x 4 columns]"
      ]
     },
     "execution_count": 9,
     "metadata": {},
     "output_type": "execute_result"
    }
   ],
   "source": [
    "# final seattle result\n",
    "result_df = valid_buildings[\n",
    "    [\n",
    "        \"Latitude\",\n",
    "        \"Longitude\",\n",
    "        \"Residential EUI (kWh/m²/year)\",\n",
    "        \"Non-residential EUI (kWh/m²/year)\",\n",
    "    ]\n",
    "].rename(columns={\"Latitude\": \"latitude\", \"Longitude\": \"longitude\"})\n",
    "result_df"
   ]
  },
  {
   "cell_type": "markdown",
   "metadata": {},
   "source": [
    "##### The missing values (NaN) in the results reflect the mutually exclusive nature of building classifications—each building belongs exclusively to either the residential or non-residential category. For example, in Row 5, a non-residential building with an EUI of 164.3 kWh/m²/year has a NaN value in the \"Residential EUI\" column, indicating that this building does not fall under the residential category."
   ]
  },
  {
   "cell_type": "code",
   "execution_count": null,
   "metadata": {},
   "outputs": [],
   "source": [
    "# result_df.to_csv(\"seattle_processed_eui.csv\", index=False)"
   ]
  }
 ],
 "metadata": {
  "kernelspec": {
   "display_name": "base",
   "language": "python",
   "name": "python3"
  },
  "language_info": {
   "codemirror_mode": {
    "name": "ipython",
    "version": 3
   },
   "file_extension": ".py",
   "mimetype": "text/x-python",
   "name": "python",
   "nbconvert_exporter": "python",
   "pygments_lexer": "ipython3",
   "version": "3.11.7"
  }
 },
 "nbformat": 4,
 "nbformat_minor": 2
}
